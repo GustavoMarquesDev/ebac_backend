{
  "nbformat": 4,
  "nbformat_minor": 0,
  "metadata": {
    "colab": {
      "provenance": []
    },
    "kernelspec": {
      "name": "python3",
      "display_name": "Python 3"
    },
    "language_info": {
      "name": "python"
    }
  },
  "cells": [
    {
      "cell_type": "code",
      "execution_count": 8,
      "metadata": {
        "id": "Sy7NoyA79Nm8"
      },
      "outputs": [],
      "source": [
        "propaganda_online = [\n",
        " {'tempo_gasto_site': 68.95, 'idade': 35, 'renda_area': 61833.90,\n",
        " 'tempo_gasto_internet': 256.09, 'cidade': 'Wrightburgh',\n",
        " 'pais': 'Tunisia', 'clicou_no_ad': 0\n",
        " },\n",
        " {'tempo_gasto_site': 80.23, 'idade': 31, 'renda_area': 68441.85,\n",
        " 'tempo_gasto_internet': 193.77, 'cidade': 'West Jodi',\n",
        " 'pais': 'Nauru', 'clicou_no_ad': 0\n",
        " },\n",
        " {'tempo_gasto_site': 69.47, 'idade': 26, 'renda_area': 59785.94,\n",
        " 'tempo_gasto_internet': 236.50, 'cidade': 'Davidton',\n",
        " 'pais': 'San Marino', 'clicou_no_ad': 0\n",
        " },\n",
        " {'tempo_gasto_site': 68.37, 'idade': 35, 'renda_area': 73889.99,\n",
        " 'tempo_gasto_internet': 225.58, 'cidade': 'South Manuel',\n",
        " 'pais': 'Iceland', 'clicou_no_ad': 0\n",
        " },\n",
        " {'tempo_gasto_site': 88.91, 'idade': 33, 'renda_area': 53852.85,\n",
        "   'tempo_gasto_internet': 208.36, 'cidade': 'Brandonstad',\n",
        " 'pais': 'Myanmar', 'clicou_no_ad': 0\n",
        " },\n",
        " {'tempo_gasto_site': None, 'idade': 48, 'renda_area': 24593.33,\n",
        " 'tempo_gasto_internet': 131.76, 'cidade': 'Port Jefferybury',\n",
        " 'pais': 'Australia', 'clicou_no_ad': 1\n",
        " },\n",
        " {'tempo_gasto_site': 74.53, 'idade': 30, 'renda_area': 68862.00,\n",
        " 'tempo_gasto_internet': 221.51, 'cidade': 'West Colin',\n",
        " 'pais': 'Grenada'},\n",
        " {'tempo_gasto_site': 69.88, 'idade': 20, 'renda_area': 55642.32,\n",
        " 'tempo_gasto_internet': 183.82, 'cidade': 'Ramirezton',\n",
        " 'pais': 'Ghana', 'clicou_no_ad': 0\n",
        " }\n",
        "]"
      ]
    },
    {
      "cell_type": "code",
      "source": [
        "for dado_de_usuario in propaganda_online:\n",
        "  print(dado_de_usuario)"
      ],
      "metadata": {
        "colab": {
          "base_uri": "https://localhost:8080/"
        },
        "id": "Y5XQVBZkS-Vw",
        "outputId": "b4f66289-cbf9-490e-de6d-f00c57736cc7"
      },
      "execution_count": 9,
      "outputs": [
        {
          "output_type": "stream",
          "name": "stdout",
          "text": [
            "{'tempo_gasto_site': 68.95, 'idade': 35, 'renda_area': 61833.9, 'tempo_gasto_internet': 256.09, 'cidade': 'Wrightburgh', 'pais': 'Tunisia', 'clicou_no_ad': 0}\n",
            "{'tempo_gasto_site': 80.23, 'idade': 31, 'renda_area': 68441.85, 'tempo_gasto_internet': 193.77, 'cidade': 'West Jodi', 'pais': 'Nauru', 'clicou_no_ad': 0}\n",
            "{'tempo_gasto_site': 69.47, 'idade': 26, 'renda_area': 59785.94, 'tempo_gasto_internet': 236.5, 'cidade': 'Davidton', 'pais': 'San Marino', 'clicou_no_ad': 0}\n",
            "{'tempo_gasto_site': 68.37, 'idade': 35, 'renda_area': 73889.99, 'tempo_gasto_internet': 225.58, 'cidade': 'South Manuel', 'pais': 'Iceland', 'clicou_no_ad': 0}\n",
            "{'tempo_gasto_site': 88.91, 'idade': 33, 'renda_area': 53852.85, 'tempo_gasto_internet': 208.36, 'cidade': 'Brandonstad', 'pais': 'Myanmar', 'clicou_no_ad': 0}\n",
            "{'tempo_gasto_site': None, 'idade': 48, 'renda_area': 24593.33, 'tempo_gasto_internet': 131.76, 'cidade': 'Port Jefferybury', 'pais': 'Australia', 'clicou_no_ad': 1}\n",
            "{'tempo_gasto_site': 74.53, 'idade': 30, 'renda_area': 68862.0, 'tempo_gasto_internet': 221.51, 'cidade': 'West Colin', 'pais': 'Grenada'}\n",
            "{'tempo_gasto_site': 69.88, 'idade': 20, 'renda_area': 55642.32, 'tempo_gasto_internet': 183.82, 'cidade': 'Ramirezton', 'pais': 'Ghana', 'clicou_no_ad': 0}\n"
          ]
        }
      ]
    },
    {
      "cell_type": "code",
      "source": [
        "paises = []\n",
        "\n",
        "for dado_de_usuario in propaganda_online:\n",
        "  if dado_de_usuario['idade'] > 30:\n",
        "    if dado_de_usuario['pais'] not in paises:\n",
        "      paises.append(dado_de_usuario['pais'])\n",
        "\n",
        "print(paises)"
      ],
      "metadata": {
        "colab": {
          "base_uri": "https://localhost:8080/"
        },
        "id": "t5GFTsAVTEUQ",
        "outputId": "db18b7f8-90d6-4711-f1aa-518dce7f5609"
      },
      "execution_count": 10,
      "outputs": [
        {
          "output_type": "stream",
          "name": "stdout",
          "text": [
            "['Tunisia', 'Nauru', 'Iceland', 'Myanmar', 'Australia']\n"
          ]
        }
      ]
    },
    {
      "cell_type": "code",
      "source": [
        "leads = []\n",
        "\n",
        "for dado_de_usuario in propaganda_online:\n",
        "    try:\n",
        "      if dado_de_usuario.get('clicou_no_ad') == 1:\n",
        "        if dado_de_usuario['renda_area'] not in leads:\n",
        "          leads.append(dado_de_usuario['renda_area'])\n",
        "    except KeyError:\n",
        "        print('Um dos usuarios não esta com a propriedade clicou_no_ad definida')\n",
        "\n",
        "    except Exception as exc:\n",
        "        print(exc)\n",
        "        print('Ocorreu um erro')\n",
        "\n",
        "print(leads)"
      ],
      "metadata": {
        "colab": {
          "base_uri": "https://localhost:8080/"
        },
        "id": "QNz1r4LBTJrY",
        "outputId": "417a0e78-2fbd-40ca-fb9a-00280fb92e68"
      },
      "execution_count": 11,
      "outputs": [
        {
          "output_type": "stream",
          "name": "stdout",
          "text": [
            "[24593.33]\n"
          ]
        }
      ]
    },
    {
      "cell_type": "code",
      "source": [
        "cidades = []\n",
        "\n",
        "for dado_de_usuario in propaganda_online:\n",
        "    try:\n",
        "        if dado_de_usuario['tempo_gasto_site'] > 70:\n",
        "            if dado_de_usuario['cidade'] not in cidades:\n",
        "                cidades.append(dado_de_usuario['cidade'])\n",
        "    except TypeError:\n",
        "        print('Um dos usuários não acessou o site ')\n",
        "\n",
        "    except Exception as exc:\n",
        "        print(exc)\n",
        "        print('Ocorreu um erro')\n",
        "\n",
        "\n",
        "    finally:\n",
        "        if dado_de_usuario.get('tempo_gasto_site') is not None and dado_de_usuario['tempo_gasto_site'] > 70:\n",
        "            if dado_de_usuario['cidade'] not in cidades:\n",
        "                cidades.append(dado_de_usuario['cidade'])\n",
        "\n",
        "print(cidades)"
      ],
      "metadata": {
        "colab": {
          "base_uri": "https://localhost:8080/"
        },
        "id": "zhK-vzosTOHt",
        "outputId": "0b57e476-153e-4075-e79c-913d6ead1fca"
      },
      "execution_count": 6,
      "outputs": [
        {
          "output_type": "stream",
          "name": "stdout",
          "text": [
            "Um dos usuários não acessou o site \n",
            "['West Jodi', 'Brandonstad', 'West Colin']\n"
          ]
        }
      ]
    }
  ]
}