{
  "nbformat": 4,
  "nbformat_minor": 0,
  "metadata": {
    "colab": {
      "provenance": [],
      "toc_visible": true
    },
    "kernelspec": {
      "name": "python3",
      "display_name": "Python 3"
    },
    "language_info": {
      "name": "python"
    }
  },
  "cells": [
    {
      "cell_type": "code",
      "execution_count": 11,
      "metadata": {
        "colab": {
          "base_uri": "https://localhost:8080/"
        },
        "id": "hOGHEzjGkHt-",
        "outputId": "40815cd4-3964-4634-bb8b-765cfd660f01"
      },
      "outputs": [
        {
          "output_type": "stream",
          "name": "stdout",
          "text": [
            "[' Brilho Eterno de uma Mente sem Lembranças', 'Seven', ' Closer', ' Em Algum Lugar do Passado', 'Os Outros ', 'Poltergeist', 'Matrix', ' Os Suspeitos', 'O Bebê de Rosemary', 'O Sexto Sentido']\n"
          ]
        }
      ],
      "source": [
        "filmes_melhor_avaliados = ['Seven', ' Brilho Eterno de uma Mente sem Lembranças', ' Closer', ' Em Algum Lugar do Passado', 'Os Outros ', 'Poltergeist', 'Matrix', ' Os Suspeitos', 'O Bebê de Rosemary', 'O Sexto Sentido']\n",
        "\n",
        "atualizando_lista = filmes_melhor_avaliados.pop(0)\n",
        "\n",
        "filmes_melhor_avaliados_atualizada = filmes_melhor_avaliados.insert(1, atualizando_lista)\n",
        "\n",
        "print(filmes_melhor_avaliados)"
      ]
    },
    {
      "cell_type": "code",
      "source": [
        "filmes_melhor_avaliados_duplicada = ['Seven', ' Brilho Eterno de uma Mente sem Lembranças', ' Closer', ' Em Algum Lugar do Passado', 'Os Outros ', 'Poltergeist', 'Matrix', ' Os Suspeitos',' Os Suspeitos', 'O Bebê de Rosemary','O Bebê de Rosemary', 'O Sexto Sentido','O Sexto Sentido']\n",
        "\n",
        "filmes_melhor_avaliados = set(filmes_melhor_avaliados_duplicada)\n",
        "print(filmes_melhor_avaliados)"
      ],
      "metadata": {
        "colab": {
          "base_uri": "https://localhost:8080/"
        },
        "id": "YIrDZCUYmlHm",
        "outputId": "46a78b71-f4b2-441d-e663-c8ccbb17f3f3"
      },
      "execution_count": 10,
      "outputs": [
        {
          "output_type": "stream",
          "name": "stdout",
          "text": [
            "{'O Sexto Sentido', 'Os Outros ', 'Seven', ' Os Suspeitos', ' Closer', 'Poltergeist', ' Brilho Eterno de uma Mente sem Lembranças', 'Matrix', 'O Bebê de Rosemary', ' Em Algum Lugar do Passado'}\n"
          ]
        }
      ]
    },
    {
      "cell_type": "code",
      "source": [
        "filmes_melhor_avaliados = [\n",
        "  {\n",
        "    'nome':'Seven',\n",
        "    'ano': 1995,\n",
        "    'sinopse': 'Two detectives, a rookie and a veteran, hunt a serial killer who uses the seven deadly sins as his motives.'\n",
        "  },\n",
        " {\n",
        "    'nome': 'Brilho Eterno de uma Mente sem Lembranças',\n",
        "    'ano': 2004,\n",
        "    'sinopse': 'When their relationship turns sour, a couple undergoes a medical procedure to have each other erased from their memories for ever.'\n",
        "  },\n",
        " {\n",
        "    'nome': 'Closer',\n",
        "    'ano': 2004,\n",
        "    'sinopse': 'The relationships of two couples become complicated and deceitful when the man from one couple meets the woman of the other.'\n",
        "  },\n",
        " {\n",
        "    'nome': 'Em Algum Lugar do Passado',\n",
        "    'ano': 1980,\n",
        "    'sinopse': 'A Chicago playwright uses self-hypnosis to travel back in time and meet the actress whose vintage portrait hangs in a grand hotel.'\n",
        "  },\n",
        " {\n",
        "    'nome': 'Os Outros',\n",
        "    'ano': 2001,\n",
        "    'sinopse': 'In 1945, immediately following the end of Second World War, a woman who lives with her two photosensitive children on her darkened old family estate in the Channel Islands becomes convinced that the home is haunted.'\n",
        "  },\n",
        " {\n",
        "    'nome': 'Poltergeist',\n",
        "    'ano': 1982,\n",
        "    'sinopse': 'A family is home is haunted by a host of demonic ghosts'\n",
        "  },\n",
        " {\n",
        "    'nome': 'Matrix',\n",
        "    'ano': 1999,\n",
        "    'sinopse': 'When a beautiful stranger leads computer hacker Neo to a forbidding underworld, he discovers the shocking truth--the life he knows is the elaborate deception of an evil cyber-intelligence.'\n",
        "  },\n",
        " {\n",
        "    'nome': 'Os Suspeitos',\n",
        "    'ano': 1995,\n",
        "    'sinopse': 'The sole survivor of a pier shoot-out tells the story of how a notorious criminal influenced the events that began with five criminals meeting in a seemingly random police lineup.'\n",
        "  },\n",
        " {\n",
        "    'nome': 'O Bebê de Rosemary',\n",
        "    'ano': 1968,\n",
        "    'sinopse': 'A young couple trying for a baby moves into an aging, ornate apartment building on Central Park West, where they find themselves surrounded by peculiar neighbors.'\n",
        "  },\n",
        " {\n",
        "    'nome': 'O Sexto Sentido',\n",
        "    'ano': 1999,\n",
        "    'sinopse': 'Malcolm Crowe, a child psychologist, starts treating a young boy, Cole, who encounters dead people and convinces him to help them. In turn, Cole helps Malcolm reconcile with his estranged wife.'\n",
        "  }\n",
        "]\n",
        "\n",
        "filmes_melhor_avaliados[0]['ano'] = 2022\n",
        "print(filmes_melhor_avaliados)"
      ],
      "metadata": {
        "colab": {
          "base_uri": "https://localhost:8080/"
        },
        "id": "ahgRlbTMn6km",
        "outputId": "f6ac94ce-a1ef-4183-9ab9-e0ee3122c522"
      },
      "execution_count": 19,
      "outputs": [
        {
          "output_type": "stream",
          "name": "stdout",
          "text": [
            "[{'nome': 'Seven', 'ano': 2022, 'sinopse': 'Two detectives, a rookie and a veteran, hunt a serial killer who uses the seven deadly sins as his motives.'}, {'nome': 'Brilho Eterno de uma Mente sem Lembranças', 'ano': 2004, 'sinopse': 'When their relationship turns sour, a couple undergoes a medical procedure to have each other erased from their memories for ever.'}, {'nome': 'Closer', 'ano': 2004, 'sinopse': 'The relationships of two couples become complicated and deceitful when the man from one couple meets the woman of the other.'}, {'nome': 'Em Algum Lugar do Passado', 'ano': 1980, 'sinopse': 'A Chicago playwright uses self-hypnosis to travel back in time and meet the actress whose vintage portrait hangs in a grand hotel.'}, {'nome': 'Os Outros', 'ano': 2001, 'sinopse': 'In 1945, immediately following the end of Second World War, a woman who lives with her two photosensitive children on her darkened old family estate in the Channel Islands becomes convinced that the home is haunted.'}, {'nome': 'Poltergeist', 'ano': 1982, 'sinopse': 'A family is home is haunted by a host of demonic ghosts'}, {'nome': 'Matrix', 'ano': 1999, 'sinopse': 'When a beautiful stranger leads computer hacker Neo to a forbidding underworld, he discovers the shocking truth--the life he knows is the elaborate deception of an evil cyber-intelligence.'}, {'nome': 'Os Suspeitos', 'ano': 1995, 'sinopse': 'The sole survivor of a pier shoot-out tells the story of how a notorious criminal influenced the events that began with five criminals meeting in a seemingly random police lineup.'}, {'nome': 'O Bebê de Rosemary', 'ano': 1968, 'sinopse': 'A young couple trying for a baby moves into an aging, ornate apartment building on Central Park West, where they find themselves surrounded by peculiar neighbors.'}, {'nome': 'O Sexto Sentido', 'ano': 1999, 'sinopse': 'Malcolm Crowe, a child psychologist, starts treating a young boy, Cole, who encounters dead people and convinces him to help them. In turn, Cole helps Malcolm reconcile with his estranged wife.'}]\n"
          ]
        }
      ]
    }
  ]
}