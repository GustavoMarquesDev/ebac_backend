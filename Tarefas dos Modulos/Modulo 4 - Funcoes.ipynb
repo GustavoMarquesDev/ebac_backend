{
  "nbformat": 4,
  "nbformat_minor": 0,
  "metadata": {
    "colab": {
      "provenance": []
    },
    "kernelspec": {
      "name": "python3",
      "display_name": "Python 3"
    },
    "language_info": {
      "name": "python"
    }
  },
  "cells": [
    {
      "cell_type": "code",
      "execution_count": 1,
      "metadata": {
        "colab": {
          "base_uri": "https://localhost:8080/"
        },
        "id": "mf7sj9-BY9_4",
        "outputId": "9aed81d8-893b-469e-db8f-f8fb1f64ba0f"
      },
      "outputs": [
        {
          "output_type": "stream",
          "name": "stdout",
          "text": [
            "Writing carros.csv\n"
          ]
        }
      ],
      "source": [
        "%%writefile carros.csv\n",
        "id,valor_venda,valor_manutencao,portas,pessoas,porta_malas\n",
        "1,vhigh,med,2,2,small\n",
        "2,med,vhigh,2,2,small\n",
        "3,low,vhigh,2,2,small\n",
        "4,low,high,2,2,small\n",
        "5,low,high,2,2,small\n",
        "6,low,high,4,4,big\n",
        "7,low,high,4,4,big\n",
        "8,low,med,2,2,small\n",
        "9,low,med,2,2,small\n",
        "10,low,med,2,2,small\n",
        "11,low,med,4,4,big\n",
        "12,low,low,2,2,small\n",
        "13,low,low,4,4,small\n",
        "14,low,low,4,4,med"
      ]
    },
    {
      "cell_type": "code",
      "source": [
        "%%writefile musica.txt\n",
        "Roda Viva\n",
        "Chico Buarque\n",
        "\n",
        "Tem dias que a gente se sente\n",
        "Como quem partiu ou morreu\n",
        "A gente estancou de repente\n",
        "Ou foi o mundo então que cresceu\n",
        "A gente quer ter voz ativa\n",
        "No nosso destino mandar\n",
        "Mas eis que chega a roda viva\n",
        "E carrega o destino pra lá\n",
        "\n",
        "Roda mundo, roda-gigante\n",
        "Roda moinho, roda pião\n",
        "\n",
        "O tempo rodou num instante\n",
        "Nas voltas do meu coração\n",
        "A gente vai contra a corrente\n",
        "Até não poder resistir\n",
        "Na volta do barco é que sente\n",
        "O quanto deixou de cumprir\n",
        "Faz tempo que a gente cultiva\n",
        "A mais linda roseira que há\n",
        "Mas eis que chega a roda viva\n",
        "E carrega a roseira pra lá\n",
        "\n",
        "Roda mundo, roda-gigante\n",
        "Roda moinho, roda pião"
      ],
      "metadata": {
        "colab": {
          "base_uri": "https://localhost:8080/"
        },
        "id": "OvuXm6ZBZbJ4",
        "outputId": "e5455066-7217-4074-83b2-e4999bdb5cc0"
      },
      "execution_count": 2,
      "outputs": [
        {
          "output_type": "stream",
          "name": "stdout",
          "text": [
            "Writing musica.txt\n"
          ]
        }
      ]
    },
    {
      "cell_type": "code",
      "source": [
        "def extrai_coluna_csv(nome_arquivo: str, indice_coluna: int, tipo_dado: str):\n",
        "\n",
        "  coluna = []\n",
        "\n",
        "  try:\n",
        "\n",
        "    with open(file=nome_arquivo, mode='r', encoding='utf8') as arquivo:\n",
        "      linha = arquivo.readline()\n",
        "      linha = arquivo.readline()\n",
        "      while linha:\n",
        "        linha_separada = linha.split(sep=',')\n",
        "        coluna_separada = linha_separada[indice_coluna]\n",
        "\n",
        "        if tipo_dado == 'str':\n",
        "            coluna_separada = str(coluna_separada)\n",
        "        elif tipo_dado == 'int':\n",
        "            coluna_separada = int(coluna_separada)\n",
        "\n",
        "\n",
        "        coluna.append(coluna_separada)\n",
        "        linha= arquivo.readline()\n",
        "\n",
        "  except Exception as exc:\n",
        "\n",
        "      print(exc)\n",
        "      print('Algo deu errado, preencha os parametro da função corretamente')\n",
        "\n",
        "  return coluna\n",
        "\n",
        ""
      ],
      "metadata": {
        "id": "OtSkgQv3Zo8V"
      },
      "execution_count": 26,
      "outputs": []
    },
    {
      "cell_type": "code",
      "source": [
        "valor_venda = extrai_coluna_csv(nome_arquivo='./carros.csv', indice_coluna=1, tipo_dado='str')\n",
        "print(valor_venda)\n",
        "\n",
        "pessoas = extrai_coluna_csv(nome_arquivo='./carros.csv', indice_coluna=4, tipo_dado='int')\n",
        "print(pessoas)"
      ],
      "metadata": {
        "colab": {
          "base_uri": "https://localhost:8080/"
        },
        "id": "DIiUJpZ5d4s1",
        "outputId": "4bc15fde-b2b6-4f16-e4c1-2073fa905fbb"
      },
      "execution_count": 28,
      "outputs": [
        {
          "output_type": "stream",
          "name": "stdout",
          "text": [
            "['vhigh', 'med', 'low', 'low', 'low', 'low', 'low', 'low', 'low', 'low', 'low', 'low', 'low', 'low']\n",
            "[2, 2, 2, 2, 2, 4, 4, 2, 2, 2, 4, 2, 4, 4]\n"
          ]
        }
      ]
    },
    {
      "cell_type": "code",
      "source": [
        "def extrai_linha_txt(nome_arquivo: str, numero_linha: int):\n",
        "    palavras_linha = []\n",
        "\n",
        "    try:\n",
        "        with open(nome_arquivo, mode='r', encoding='utf8') as arquivo:\n",
        "            # Lendo todas as linhas do arquivo\n",
        "            linhas = arquivo.readlines()\n",
        "\n",
        "            # Verificando se o número da linha fornecido é válido\n",
        "            if numero_linha <= len(linhas):\n",
        "                # Obtendo a linha desejada (linhas são indexadas a partir de 0)\n",
        "                linha_selecionada = linhas[numero_linha - 1]\n",
        "\n",
        "                # Dividindo a linha em palavras usando o espaço como separador\n",
        "                palavras_linha = linha_selecionada.split()\n",
        "            else:\n",
        "                # Se o número da linha não for válido, retorna uma lista vazia\n",
        "                print(\"Número de linha fora do alcance.\")\n",
        "    except Exception as exc:\n",
        "        # Tratando exceções\n",
        "        print(exc)\n",
        "        print('Algo deu errado. Verifique os parâmetros da função.')\n",
        "\n",
        "    return palavras_linha"
      ],
      "metadata": {
        "id": "r57b8AiPjxuy"
      },
      "execution_count": 31,
      "outputs": []
    },
    {
      "cell_type": "code",
      "source": [
        "linha10 = extrai_linha_txt(nome_arquivo='./musica.txt', numero_linha=10)\n",
        "print(linha10)"
      ],
      "metadata": {
        "colab": {
          "base_uri": "https://localhost:8080/"
        },
        "id": "AsSX31dkkzjb",
        "outputId": "6e8a81f1-dfd7-4bf4-fda4-396960686790"
      },
      "execution_count": 32,
      "outputs": [
        {
          "output_type": "stream",
          "name": "stdout",
          "text": [
            "['Mas', 'eis', 'que', 'chega', 'a', 'roda', 'viva']\n"
          ]
        }
      ]
    }
  ]
}