{
  "nbformat": 4,
  "nbformat_minor": 0,
  "metadata": {
    "colab": {
      "provenance": []
    },
    "kernelspec": {
      "name": "python3",
      "display_name": "Python 3"
    },
    "language_info": {
      "name": "python"
    }
  },
  "cells": [
    {
      "cell_type": "code",
      "execution_count": null,
      "metadata": {
        "id": "z0iB4cCLCW4H"
      },
      "outputs": [],
      "source": [
        "!python extracao.py"
      ]
    },
    {
      "cell_type": "code",
      "source": [
        "!python visualizacao.py 'taxa-selic'"
      ],
      "metadata": {
        "id": "Op2jY_v5SIKw"
      },
      "execution_count": null,
      "outputs": []
    },
    {
      "cell_type": "code",
      "source": [
        "!python analise.py 'taxa-selic'"
      ],
      "metadata": {
        "id": "YZvQIRkdSOlu"
      },
      "execution_count": null,
      "outputs": []
    },
    {
      "cell_type": "code",
      "source": [
        "import os\n",
        "import time\n",
        "import json\n",
        "import csv\n",
        "from sys import argv\n",
        "from random import random\n",
        "from datetime import datetime\n",
        "\n",
        "\n",
        "import pandas as pd\n",
        "import seaborn as sns\n",
        "import requests\n",
        "\n",
        "URL = 'https://www2.cetip.com.br/ConsultarTaxaDi/ConsultarTaxaDICetip.aspx'\n",
        "\n",
        "# Criando a variável data e hora\n",
        "\n",
        "for _ in range(0, 10):\n",
        "\n",
        "    data_e_hora = datetime.now()\n",
        "    data = datetime.strftime(data_e_hora, '%Y/%m/%d')\n",
        "    hora = datetime.strftime(data_e_hora, '%H:%M:%S')\n",
        "\n",
        "    # Captando a taxa CDI do site da B3\n",
        "\n",
        "    try:\n",
        "        response = requests.get(URL)\n",
        "        response.raise_for_status()\n",
        "    except requests.HTTPError as exc:\n",
        "        print(\"Dado não encontrado, continuando.\")\n",
        "        cdi = None\n",
        "    except Exception as exc:\n",
        "        print(\"Erro, parando a execução.\")\n",
        "        raise exc\n",
        "    else:\n",
        "        dado = json.loads(response.text)\n",
        "        cdi = float(dado['taxa'].replace(',', '.')) + (random() - 0.5)\n",
        "\n",
        "    # Verificando se o arquivo \"taxa-cdi.csv\" existe\n",
        "\n",
        "    if os.path.exists('./taxa-cdi.csv') == False:\n",
        "\n",
        "        with open(file='./taxa-cdi.csv', mode='w', encoding='utf8') as fp:\n",
        "            fp.write('data,hora,taxa\\n')\n",
        "\n",
        "    # Salvando dados no arquivo \"taxa-cdi.csv\"\n",
        "\n",
        "    with open(file='./taxa-cdi.csv', mode='a', encoding='utf8') as fp:\n",
        "        fp.write(f'{data},{hora},{cdi}\\n')\n",
        "\n",
        "    time.sleep(2 + (random() - 0.5))\n",
        "\n",
        "print(\"Sucesso na obtenção das taxas\")\n",
        "\n",
        "\n",
        "df = pd.read_csv('./taxa-cdi.csv')\n",
        "\n",
        "# Salvando no grafico\n",
        "\n",
        "grafico = sns.lineplot(x=df['hora'], y=df['taxa'])\n",
        "_ = grafico.set_xticklabels(labels=df['hora'], rotation=90)\n",
        "grafico.get_figure().savefig(f\"{argv[1]}.png\")\n",
        "\n",
        "print('Sucesso na geração do gráfico')"
      ],
      "metadata": {
        "id": "jfJI6zSeSU5y"
      },
      "execution_count": null,
      "outputs": []
    }
  ]
}